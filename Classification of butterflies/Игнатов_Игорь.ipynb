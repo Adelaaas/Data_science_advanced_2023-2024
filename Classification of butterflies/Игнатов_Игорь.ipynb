{
  "cells": [
    {
      "cell_type": "code",
      "execution_count": null,
      "metadata": {
        "colab": {
          "base_uri": "https://localhost:8080/"
        },
        "id": "_lvndK2LQ1_Z",
        "outputId": "a151039d-e426-4528-9ccd-e536952c5e02"
      },
      "outputs": [
        {
          "output_type": "stream",
          "name": "stdout",
          "text": [
            "Mounted at /content/gdrive\n"
          ]
        }
      ],
      "source": [
        "from google.colab import drive\n",
        "drive.mount('/content/gdrive')"
      ]
    },
    {
      "cell_type": "code",
      "source": [
        "import cv2"
      ],
      "metadata": {
        "id": "Y3sopRymopIU"
      },
      "execution_count": null,
      "outputs": []
    },
    {
      "cell_type": "code",
      "execution_count": null,
      "metadata": {
        "id": "pPAudzlURNrG"
      },
      "outputs": [],
      "source": [
        "import re\n",
        "import pandas as pd\n",
        "import os\n",
        "import tensorflow as tf"
      ]
    },
    {
      "cell_type": "code",
      "execution_count": null,
      "metadata": {
        "id": "LgaJgczjSpGf"
      },
      "outputs": [],
      "source": []
    },
    {
      "cell_type": "code",
      "source": [
        "train_dir = os.path.join('/content/gdrive/MyDrive/ЛЕТАЮЩИЕ НАСЕКОМЫЕ/train_butterflies')\n",
        "valid_dir = os.path.join('/content/gdrive/MyDrive/ЛЕТАЮЩИЕ НАСЕКОМЫЕ/valid')"
      ],
      "metadata": {
        "id": "IvqRKOlObcP6"
      },
      "execution_count": null,
      "outputs": []
    },
    {
      "cell_type": "code",
      "execution_count": null,
      "metadata": {
        "colab": {
          "base_uri": "https://localhost:8080/"
        },
        "id": "tQuwcYc_R2pt",
        "outputId": "1d2d979b-a409-40e7-bf10-30a53cc6702e"
      },
      "outputs": [
        {
          "output_type": "stream",
          "name": "stdout",
          "text": [
            "Found 4955 files belonging to 50 classes.\n"
          ]
        }
      ],
      "source": [
        "img_shape=(224,224,3)\n",
        "\n",
        "\n",
        "img_size = (img_shape[0], img_shape[1])\n",
        "\n",
        "train_ds = tf.keras.preprocessing.image_dataset_from_directory(\n",
        "    train_dir,\n",
        "    image_size=img_size,\n",
        "    seed=123,\n",
        "    batch_size=15)"
      ]
    },
    {
      "cell_type": "code",
      "source": [
        "train_ds"
      ],
      "metadata": {
        "colab": {
          "base_uri": "https://localhost:8080/"
        },
        "id": "K-H_NRXkdxMu",
        "outputId": "5a28fc62-33a2-42f0-df0c-346214c6074e"
      },
      "execution_count": null,
      "outputs": [
        {
          "output_type": "execute_result",
          "data": {
            "text/plain": [
              "<_PrefetchDataset element_spec=(TensorSpec(shape=(None, 224, 224, 3), dtype=tf.float32, name=None), TensorSpec(shape=(None,), dtype=tf.int32, name=None))>"
            ]
          },
          "metadata": {},
          "execution_count": 9
        }
      ]
    },
    {
      "cell_type": "code",
      "execution_count": null,
      "metadata": {
        "colab": {
          "base_uri": "https://localhost:8080/"
        },
        "id": "HJwKFD2CUMbF",
        "outputId": "ce10325c-9dc6-427f-ca91-973ee196f21e"
      },
      "outputs": [
        {
          "output_type": "stream",
          "name": "stdout",
          "text": [
            "Found 250 files belonging to 1 classes.\n"
          ]
        }
      ],
      "source": [
        "\n",
        "img_size = (img_shape[0], img_shape[1])\n",
        "valid_ds = tf.keras.preprocessing.image_dataset_from_directory(\n",
        "    valid_dir,\n",
        "    label_mode=None,\n",
        "    image_size=img_size,\n",
        "    seed=123,\n",
        "    batch_size=15)"
      ]
    },
    {
      "cell_type": "code",
      "execution_count": null,
      "metadata": {
        "id": "ibdSP1ZXTkIY"
      },
      "outputs": [],
      "source": [
        "class_names = train_ds.class_names\n",
        "class_count = len(class_names)"
      ]
    },
    {
      "cell_type": "code",
      "execution_count": null,
      "metadata": {
        "id": "um6kW20Ne_mT",
        "colab": {
          "base_uri": "https://localhost:8080/"
        },
        "outputId": "0d5a4ec8-8f3e-427d-dccd-ff6daf7b31b1"
      },
      "outputs": [
        {
          "output_type": "execute_result",
          "data": {
            "text/plain": [
              "['class_0',\n",
              " 'class_1',\n",
              " 'class_10',\n",
              " 'class_11',\n",
              " 'class_12',\n",
              " 'class_13',\n",
              " 'class_14',\n",
              " 'class_15',\n",
              " 'class_16',\n",
              " 'class_17',\n",
              " 'class_18',\n",
              " 'class_19',\n",
              " 'class_2',\n",
              " 'class_20',\n",
              " 'class_21',\n",
              " 'class_22',\n",
              " 'class_23',\n",
              " 'class_24',\n",
              " 'class_25',\n",
              " 'class_26',\n",
              " 'class_27',\n",
              " 'class_28',\n",
              " 'class_29',\n",
              " 'class_3',\n",
              " 'class_30',\n",
              " 'class_31',\n",
              " 'class_32',\n",
              " 'class_33',\n",
              " 'class_34',\n",
              " 'class_35',\n",
              " 'class_36',\n",
              " 'class_37',\n",
              " 'class_38',\n",
              " 'class_39',\n",
              " 'class_4',\n",
              " 'class_40',\n",
              " 'class_41',\n",
              " 'class_42',\n",
              " 'class_43',\n",
              " 'class_44',\n",
              " 'class_45',\n",
              " 'class_46',\n",
              " 'class_47',\n",
              " 'class_48',\n",
              " 'class_49',\n",
              " 'class_5',\n",
              " 'class_6',\n",
              " 'class_7',\n",
              " 'class_8',\n",
              " 'class_9']"
            ]
          },
          "metadata": {},
          "execution_count": 8
        }
      ],
      "source": [
        "\n",
        "class_names"
      ]
    },
    {
      "cell_type": "code",
      "execution_count": null,
      "metadata": {
        "colab": {
          "base_uri": "https://localhost:8080/"
        },
        "id": "abqersHEGSWH",
        "outputId": "1881f9ac-862b-4ceb-c61f-58debda6f224"
      },
      "outputs": [
        {
          "output_type": "stream",
          "name": "stdout",
          "text": [
            "Downloading data from https://storage.googleapis.com/keras-applications/efficientnetb3_notop.h5\n",
            "43941136/43941136 [==============================] - 0s 0us/step\n"
          ]
        },
        {
          "output_type": "stream",
          "name": "stderr",
          "text": [
            "WARNING:absl:`lr` is deprecated in Keras optimizer, please use `learning_rate` or use the legacy optimizer, e.g.,tf.keras.optimizers.legacy.Adamax.\n"
          ]
        },
        {
          "output_type": "stream",
          "name": "stdout",
          "text": [
            "Epoch 1/6\n",
            "331/331 [==============================] - 1005s 3s/step - loss: 1.6938 - accuracy: 0.6529 - val_loss: 0.0000e+00 - val_accuracy: 0.0000e+00\n",
            "Epoch 2/6\n",
            "331/331 [==============================] - 83s 251ms/step - loss: 0.2407 - accuracy: 0.9320 - val_loss: 0.0000e+00 - val_accuracy: 0.0000e+00\n",
            "Epoch 3/6\n",
            "331/331 [==============================] - 84s 251ms/step - loss: 0.1310 - accuracy: 0.9615 - val_loss: 0.0000e+00 - val_accuracy: 0.0000e+00\n",
            "Epoch 4/6\n",
            "331/331 [==============================] - 83s 251ms/step - loss: 0.1156 - accuracy: 0.9689 - val_loss: 0.0000e+00 - val_accuracy: 0.0000e+00\n",
            "Epoch 5/6\n",
            "331/331 [==============================] - 83s 250ms/step - loss: 0.0786 - accuracy: 0.9792 - val_loss: 0.0000e+00 - val_accuracy: 0.0000e+00\n",
            "Epoch 6/6\n",
            "331/331 [==============================] - 84s 252ms/step - loss: 0.0579 - accuracy: 0.9820 - val_loss: 0.0000e+00 - val_accuracy: 0.0000e+00\n",
            "CPU times: user 8min 25s, sys: 26.3 s, total: 8min 51s\n",
            "Wall time: 27min 42s\n"
          ]
        }
      ],
      "source": [
        "%%time\n",
        "from tensorflow.keras.models import Model\n",
        "from tensorflow.keras.layers import Dense, Input, Activation, Dropout, BatchNormalization\n",
        "from tensorflow.keras import regularizers\n",
        "from tensorflow.keras.optimizers import Adam, Adamax\n",
        "\n",
        "input = Input(shape = img_shape)\n",
        "\n",
        "x = tf.keras.applications.EfficientNetB3(include_top=False, weights=\"imagenet\", pooling='max')(input)\n",
        "# x = tf.keras.layers.BatchNormalization(axis=-1, momentum=0.99, epsilon=0.001 )(x)\n",
        "\n",
        "x = Dropout(rate=.2, seed=123)(x)\n",
        "\n",
        "output = Dense(class_count, activation='softmax')(x)\n",
        "\n",
        "model = Model(inputs = input, outputs = output)\n",
        "\n",
        "# model.compile(Adamax(lr=.001), loss='sparse_categorical_crossentropy', metrics=['accuracy'])\n",
        "\n",
        "model.compile(\n",
        "    optimizer = Adamax(lr=.001),\n",
        "    loss = tf.losses.SparseCategoricalCrossentropy(),\n",
        "    # CategoricalCrossentropy()\n",
        "    metrics = ['accuracy'])\n",
        "\n",
        "history = model.fit(train_ds, validation_data = valid_ds, epochs = 6, verbose = 1)"
      ]
    },
    {
      "cell_type": "code",
      "source": [
        "acc = history.history['accuracy']\n",
        "loss = history.history['loss']"
      ],
      "metadata": {
        "id": "1WszdJHJucbw"
      },
      "execution_count": null,
      "outputs": []
    },
    {
      "cell_type": "code",
      "source": [
        "epochs = range(1,len(acc)+1)"
      ],
      "metadata": {
        "id": "qCk0DDBauvuE"
      },
      "execution_count": null,
      "outputs": []
    },
    {
      "cell_type": "code",
      "source": [
        "import matplotlib.pyplot as plt\n"
      ],
      "metadata": {
        "id": "Rd5ZSKgMIe9E"
      },
      "execution_count": null,
      "outputs": []
    },
    {
      "cell_type": "code",
      "source": [
        "fig, (ax1, ax2) = plt.subplots(1, 2)\n",
        "ax1.plot(epochs, acc, 'r', label=\"Training Accuracy\")\n",
        "ax1.set_ylabel('accuracy')\n",
        "ax1.set_xlabel('epochs')\n",
        "ax1.grid()\n",
        "\n",
        "ax2.plot(epochs, loss, 'r', label=\"Training Loss\")\n",
        "ax2.set_ylabel('loss')\n",
        "ax2.set_xlabel('epochs')\n",
        "ax2.grid()\n",
        "\n",
        "plt.show()"
      ],
      "metadata": {
        "colab": {
          "base_uri": "https://localhost:8080/",
          "height": 449
        },
        "id": "bGfO1OJOueAb",
        "outputId": "fd2ac804-deb1-46b1-e784-2dc7d7b750f2"
      },
      "execution_count": null,
      "outputs": [
        {
          "output_type": "display_data",
          "data": {
            "text/plain": [
              "<Figure size 640x480 with 2 Axes>"
            ],
            "image/png": "[encoded data removed]"
          },
          "metadata": {}
        }
      ]
    },
    {
      "cell_type": "code",
      "source": [
        "test_path = '/content/gdrive/MyDrive/ЛЕТАЮЩИЕ НАСЕКОМЫЕ/valid'\n",
        "import numpy as np\n",
        "\n",
        "test = {\n",
        "    'img': [],\n",
        "    'index': []\n",
        "}\n",
        "\n",
        "for file in os.listdir(test_path):\n",
        "    img = cv2.imread(f'{test_path}/{file}')\n",
        "    test['img'].append(\n",
        "        cv2.cvtColor(img, cv2.COLOR_BGR2RGB)\n",
        "    )\n",
        "    test['index'].append(int(file.replace('.jpg', '')))\n",
        "\n",
        "test = {\n",
        "    'img': np.array(test['img']),\n",
        "    'index': np.array(test['index'])\n",
        "}\n",
        "\n",
        "preds = model.predict(test['img'], verbose=1)\n",
        "preds\n",
        "\n",
        "import numpy as np\n",
        "\n",
        "ypred = []\n",
        "for i, p in enumerate(preds):\n",
        "    index = np.argmax(p)\n",
        "    klass = class_names[index]\n",
        "    ypred.append(klass)\n",
        "\n",
        "ypred = np.array(ypred)\n",
        "df = pd.DataFrame(ypred, columns=['label'])\n",
        "df['label'] = df['label'].str.replace(\"class_\",'')\n",
        "df['label'] = df['label'].astype(int)\n",
        "df = df.reset_index()\n",
        "df['index'] = test['index']"
      ],
      "metadata": {
        "id": "wU-K_mRKoZCR",
        "colab": {
          "base_uri": "https://localhost:8080/"
        },
        "outputId": "e7c76ef4-b700-4eaf-d60b-285984c7f592"
      },
      "execution_count": null,
      "outputs": [
        {
          "output_type": "stream",
          "name": "stdout",
          "text": [
            "8/8 [==============================] - 8s 369ms/step\n"
          ]
        }
      ]
    },
    {
      "cell_type": "code",
      "source": [
        "type(history)"
      ],
      "metadata": {
        "colab": {
          "base_uri": "https://localhost:8080/"
        },
        "id": "Zmfs8iRDtltK",
        "outputId": "f3594481-c9e9-48a2-f8ae-5a0eefe7e549"
      },
      "execution_count": null,
      "outputs": [
        {
          "output_type": "execute_result",
          "data": {
            "text/plain": [
              "keras.src.callbacks.History"
            ]
          },
          "metadata": {},
          "execution_count": 29
        }
      ]
    },
    {
      "cell_type": "code",
      "source": [],
      "metadata": {
        "id": "kV1lT9C8tq3O"
      },
      "execution_count": null,
      "outputs": []
    },
    {
      "cell_type": "code",
      "source": [],
      "metadata": {
        "id": "I7CUN4n4tzG_"
      },
      "execution_count": null,
      "outputs": []
    },
    {
      "cell_type": "code",
      "source": [
        "from tensorflow.keras.applications.efficientnet import EfficientNetB7"
      ],
      "metadata": {
        "id": "AFGU7ZFKsV5k"
      },
      "execution_count": null,
      "outputs": []
    },
    {
      "cell_type": "code",
      "source": [],
      "metadata": {
        "id": "gwq2q8LOsbVX"
      },
      "execution_count": null,
      "outputs": []
    },
    {
      "cell_type": "code",
      "execution_count": null,
      "metadata": {
        "id": "hnD6RBQrMiRN",
        "colab": {
          "base_uri": "https://localhost:8080/",
          "height": 17
        },
        "outputId": "12f5de67-096a-4ee6-b6df-3ffcede26ad1"
      },
      "outputs": [
        {
          "output_type": "display_data",
          "data": {
            "text/plain": [
              "<IPython.core.display.Javascript object>"
            ],
            "application/javascript": [
              "\n",
              "    async function download(id, filename, size) {\n",
              "      if (!google.colab.kernel.accessAllowed) {\n",
              "        return;\n",
              "      }\n",
              "      const div = document.createElement('div');\n",
              "      const label = document.createElement('label');\n",
              "      label.textContent = `Downloading \"${filename}\": `;\n",
              "      div.appendChild(label);\n",
              "      const progress = document.createElement('progress');\n",
              "      progress.max = size;\n",
              "      div.appendChild(progress);\n",
              "      document.body.appendChild(div);\n",
              "\n",
              "      const buffers = [];\n",
              "      let downloaded = 0;\n",
              "\n",
              "      const channel = await google.colab.kernel.comms.open(id);\n",
              "      // Send a message to notify the kernel that we're ready.\n",
              "      channel.send({})\n",
              "\n",
              "      for await (const message of channel.messages) {\n",
              "        // Send a message to notify the kernel that we're ready.\n",
              "        channel.send({})\n",
              "        if (message.buffers) {\n",
              "          for (const buffer of message.buffers) {\n",
              "            buffers.push(buffer);\n",
              "            downloaded += buffer.byteLength;\n",
              "            progress.value = downloaded;\n",
              "          }\n",
              "        }\n",
              "      }\n",
              "      const blob = new Blob(buffers, {type: 'application/binary'});\n",
              "      const a = document.createElement('a');\n",
              "      a.href = window.URL.createObjectURL(blob);\n",
              "      a.download = filename;\n",
              "      div.appendChild(a);\n",
              "      a.click();\n",
              "      div.remove();\n",
              "    }\n",
              "  "
            ]
          },
          "metadata": {}
        },
        {
          "output_type": "display_data",
          "data": {
            "text/plain": [
              "<IPython.core.display.Javascript object>"
            ],
            "application/javascript": [
              "download(\"download_2d0df339-5dbb-478d-aa2b-81450ca888cc\", \"predictions2.csv\", 1600)"
            ]
          },
          "metadata": {}
        }
      ],
      "source": [
        "from google.colab import files\n",
        "\n",
        "df.to_csv('predictions2.csv', index=False)\n",
        "files.download('predictions2.csv')"
      ]
    },
    {
      "cell_type": "code",
      "source": [
        "ans"
      ],
      "metadata": {
        "id": "mGLeFp6JmymP"
      },
      "execution_count": null,
      "outputs": []
    }
  ],
  "metadata": {
    "accelerator": "GPU",
    "colab": {
      "provenance": []
    },
    "kernelspec": {
      "display_name": "Python 3",
      "name": "python3"
    },
    "language_info": {
      "name": "python"
    }
  },
  "nbformat": 4,
  "nbformat_minor": 0
}
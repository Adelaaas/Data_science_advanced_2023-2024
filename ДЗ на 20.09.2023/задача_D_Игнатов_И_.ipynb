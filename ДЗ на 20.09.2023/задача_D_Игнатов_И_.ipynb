{
  "nbformat": 4,
  "nbformat_minor": 0,
  "metadata": {
    "colab": {
      "provenance": []
    },
    "kernelspec": {
      "name": "python3",
      "display_name": "Python 3"
    },
    "language_info": {
      "name": "python"
    }
  },
  "cells": [
    {
      "cell_type": "code",
      "execution_count": 3,
      "metadata": {
        "colab": {
          "base_uri": "https://localhost:8080/"
        },
        "id": "gdN3XHfVlUoy",
        "outputId": "faf1a1c7-2211-4d9c-faaf-9573585a82d2"
      },
      "outputs": [
        {
          "output_type": "stream",
          "name": "stdout",
          "text": [
            "ATTTTTA\n",
            "7\n"
          ]
        }
      ],
      "source": [
        "s= input()\n",
        "m = 0\n",
        "for i in range(len(s)):\n",
        "    if m>len(s)-i:\n",
        "        break\n",
        "    elif s.rfind(s[i])-i+1>m:\n",
        "        m = s.rfind(s[i])-i+1\n",
        "print(m)"
      ]
    }
  ]
}
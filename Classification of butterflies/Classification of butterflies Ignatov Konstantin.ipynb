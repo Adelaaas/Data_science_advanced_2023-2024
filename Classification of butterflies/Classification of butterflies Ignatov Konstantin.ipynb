{
  "cells": [
    {
      "cell_type": "markdown",
      "metadata": {
        "id": "F8X9IMkHQ-wm"
      },
      "source": [
        "Контест:\n",
        "https://www.kaggle.com/competitions/classification-of-butterflies"
      ]
    },
    {
      "cell_type": "code",
      "source": [
        "!pip install opendatasets"
      ],
      "metadata": {
        "colab": {
          "base_uri": "https://localhost:8080/"
        },
        "id": "72-VCWXNH5CD",
        "outputId": "3e1bf7ea-e855-4e52-d7f4-9b8fd8dcbd3b"
      },
      "execution_count": 44,
      "outputs": [
        {
          "output_type": "stream",
          "name": "stdout",
          "text": [
            "Requirement already satisfied: opendatasets in /usr/local/lib/python3.10/dist-packages (0.1.22)\n",
            "Requirement already satisfied: tqdm in /usr/local/lib/python3.10/dist-packages (from opendatasets) (4.66.1)\n",
            "Requirement already satisfied: kaggle in /usr/local/lib/python3.10/dist-packages (from opendatasets) (1.5.16)\n",
            "Requirement already satisfied: click in /usr/local/lib/python3.10/dist-packages (from opendatasets) (8.1.7)\n",
            "Requirement already satisfied: six>=1.10 in /usr/local/lib/python3.10/dist-packages (from kaggle->opendatasets) (1.16.0)\n",
            "Requirement already satisfied: certifi in /usr/local/lib/python3.10/dist-packages (from kaggle->opendatasets) (2024.2.2)\n",
            "Requirement already satisfied: python-dateutil in /usr/local/lib/python3.10/dist-packages (from kaggle->opendatasets) (2.8.2)\n",
            "Requirement already satisfied: requests in /usr/local/lib/python3.10/dist-packages (from kaggle->opendatasets) (2.31.0)\n",
            "Requirement already satisfied: python-slugify in /usr/local/lib/python3.10/dist-packages (from kaggle->opendatasets) (8.0.3)\n",
            "Requirement already satisfied: urllib3 in /usr/local/lib/python3.10/dist-packages (from kaggle->opendatasets) (2.0.7)\n",
            "Requirement already satisfied: bleach in /usr/local/lib/python3.10/dist-packages (from kaggle->opendatasets) (6.1.0)\n",
            "Requirement already satisfied: webencodings in /usr/local/lib/python3.10/dist-packages (from bleach->kaggle->opendatasets) (0.5.1)\n",
            "Requirement already satisfied: text-unidecode>=1.3 in /usr/local/lib/python3.10/dist-packages (from python-slugify->kaggle->opendatasets) (1.3)\n",
            "Requirement already satisfied: charset-normalizer<4,>=2 in /usr/local/lib/python3.10/dist-packages (from requests->kaggle->opendatasets) (3.3.2)\n",
            "Requirement already satisfied: idna<4,>=2.5 in /usr/local/lib/python3.10/dist-packages (from requests->kaggle->opendatasets) (3.6)\n"
          ]
        }
      ]
    },
    {
      "cell_type": "code",
      "execution_count": 45,
      "metadata": {
        "id": "pPAudzlURNrG"
      },
      "outputs": [],
      "source": [
        "import re\n",
        "import pandas as pd\n",
        "import os\n",
        "import cv2\n",
        "import numpy as np\n",
        "import opendatasets as od\n",
        "\n",
        "import tensorflow as tf\n",
        "from tensorflow.keras.models import Model\n",
        "from tensorflow.keras.layers import Dense, Input, Activation, Dropout, BatchNormalization\n",
        "from tensorflow.keras import regularizers\n",
        "from tensorflow.keras.optimizers import Adam, Adamax\n",
        "\n",
        "\n",
        "import matplotlib.pyplot as plt\n",
        "from tensorflow.keras.applications.resnet50 import ResNet50\n",
        "from google.colab import files\n",
        "from IPython.display import Image"
      ]
    },
    {
      "cell_type": "code",
      "execution_count": 46,
      "metadata": {
        "colab": {
          "base_uri": "https://localhost:8080/"
        },
        "id": "nE_31M19EnjZ",
        "outputId": "64cc27f6-75f3-4518-a92d-db962437dc2d"
      },
      "outputs": [
        {
          "output_type": "stream",
          "name": "stdout",
          "text": [
            "Skipping, found downloaded files in \"./classification-of-butterflies\" (use force=True to force download)\n"
          ]
        }
      ],
      "source": [
        "od.download(\"https://www.kaggle.com/competitions/classification-of-butterflies/overview\")"
      ]
    },
    {
      "cell_type": "markdown",
      "metadata": {
        "id": "JtlKycmTR7Cq"
      },
      "source": [
        "## Считывание данных"
      ]
    },
    {
      "cell_type": "code",
      "execution_count": 47,
      "metadata": {
        "colab": {
          "base_uri": "https://localhost:8080/"
        },
        "id": "tQuwcYc_R2pt",
        "outputId": "2b47335d-c814-46bd-deb0-48accd4fee25"
      },
      "outputs": [
        {
          "output_type": "stream",
          "name": "stdout",
          "text": [
            "Found 4955 files belonging to 50 classes.\n"
          ]
        }
      ],
      "source": [
        "img_shape = (224,224,3)\n",
        "train_dir = os.path.join('/content/classification-of-butterflies/train_butterflies/train_split')\n",
        "img_size = (img_shape[0], img_shape[1])\n",
        "train_ds = tf.keras.preprocessing.image_dataset_from_directory(\n",
        "    train_dir,\n",
        "    image_size = img_size,\n",
        "    seed = 123,\n",
        "    batch_size = 15)"
      ]
    },
    {
      "cell_type": "code",
      "execution_count": 48,
      "metadata": {
        "colab": {
          "base_uri": "https://localhost:8080/"
        },
        "id": "HJwKFD2CUMbF",
        "outputId": "d68c10a7-6591-4a27-8667-61ac29a5ea43"
      },
      "outputs": [
        {
          "output_type": "stream",
          "name": "stdout",
          "text": [
            "Found 250 files belonging to 1 classes.\n"
          ]
        }
      ],
      "source": [
        "valid_dir = os.path.join('/content/classification-of-butterflies/test_butterflies')\n",
        "img_size = (img_shape[0], img_shape[1])\n",
        "valid_ds = tf.keras.preprocessing.image_dataset_from_directory(\n",
        "    valid_dir,\n",
        "    image_size=img_size,\n",
        "    seed=123,\n",
        "    batch_size=15)"
      ]
    },
    {
      "cell_type": "code",
      "execution_count": 49,
      "metadata": {
        "colab": {
          "base_uri": "https://localhost:8080/"
        },
        "id": "v1zulFDaTL8W",
        "outputId": "800684ef-c7d9-471d-d919-d3fe55f86bb1"
      },
      "outputs": [
        {
          "output_type": "stream",
          "name": "stdout",
          "text": [
            "Found 250 files belonging to 1 classes.\n"
          ]
        }
      ],
      "source": [
        "test_dir = os.path.join('/content/classification-of-butterflies/test_butterflies')\n",
        "test_ds = tf.keras.preprocessing.image_dataset_from_directory(\n",
        "    test_dir,\n",
        "    label_mode = None,\n",
        "    image_size = img_size,\n",
        "    batch_size = 15)"
      ]
    },
    {
      "cell_type": "code",
      "execution_count": 50,
      "metadata": {
        "id": "ibdSP1ZXTkIY"
      },
      "outputs": [],
      "source": [
        "class_names = train_ds.class_names\n",
        "class_count = 50"
      ]
    },
    {
      "cell_type": "code",
      "execution_count": 51,
      "metadata": {
        "id": "um6kW20Ne_mT",
        "colab": {
          "base_uri": "https://localhost:8080/"
        },
        "outputId": "c26770e9-b02a-4474-b07c-e45c42882ee6"
      },
      "outputs": [
        {
          "output_type": "execute_result",
          "data": {
            "text/plain": [
              "['class_0',\n",
              " 'class_1',\n",
              " 'class_10',\n",
              " 'class_11',\n",
              " 'class_12',\n",
              " 'class_13',\n",
              " 'class_14',\n",
              " 'class_15',\n",
              " 'class_16',\n",
              " 'class_17',\n",
              " 'class_18',\n",
              " 'class_19',\n",
              " 'class_2',\n",
              " 'class_20',\n",
              " 'class_21',\n",
              " 'class_22',\n",
              " 'class_23',\n",
              " 'class_24',\n",
              " 'class_25',\n",
              " 'class_26',\n",
              " 'class_27',\n",
              " 'class_28',\n",
              " 'class_29',\n",
              " 'class_3',\n",
              " 'class_30',\n",
              " 'class_31',\n",
              " 'class_32',\n",
              " 'class_33',\n",
              " 'class_34',\n",
              " 'class_35',\n",
              " 'class_36',\n",
              " 'class_37',\n",
              " 'class_38',\n",
              " 'class_39',\n",
              " 'class_4',\n",
              " 'class_40',\n",
              " 'class_41',\n",
              " 'class_42',\n",
              " 'class_43',\n",
              " 'class_44',\n",
              " 'class_45',\n",
              " 'class_46',\n",
              " 'class_47',\n",
              " 'class_48',\n",
              " 'class_49',\n",
              " 'class_5',\n",
              " 'class_6',\n",
              " 'class_7',\n",
              " 'class_8',\n",
              " 'class_9']"
            ]
          },
          "metadata": {},
          "execution_count": 51
        }
      ],
      "source": [
        "class_names"
      ]
    },
    {
      "cell_type": "markdown",
      "metadata": {
        "id": "wNEtIXEXVWmm"
      },
      "source": [
        "## Построение модели"
      ]
    },
    {
      "cell_type": "code",
      "execution_count": 52,
      "metadata": {
        "colab": {
          "base_uri": "https://localhost:8080/"
        },
        "id": "abqersHEGSWH",
        "outputId": "69eab04d-fb41-4561-ea45-2e080a815d1f"
      },
      "outputs": [
        {
          "output_type": "stream",
          "name": "stderr",
          "text": [
            "WARNING:absl:`lr` is deprecated in Keras optimizer, please use `learning_rate` or use the legacy optimizer, e.g.,tf.keras.optimizers.legacy.Adamax.\n"
          ]
        },
        {
          "output_type": "stream",
          "name": "stdout",
          "text": [
            "Epoch 1/10\n",
            "331/331 [==============================] - 143s 261ms/step - loss: 1.7286 - accuracy: 0.6492 - val_loss: 13.5670 - val_accuracy: 0.0200\n",
            "Epoch 2/10\n",
            "331/331 [==============================] - 86s 260ms/step - loss: 0.2502 - accuracy: 0.9288 - val_loss: 16.1970 - val_accuracy: 0.0200\n",
            "Epoch 3/10\n",
            "331/331 [==============================] - 85s 258ms/step - loss: 0.1359 - accuracy: 0.9572 - val_loss: 17.3190 - val_accuracy: 0.0200\n",
            "Epoch 4/10\n",
            "331/331 [==============================] - 86s 259ms/step - loss: 0.1003 - accuracy: 0.9709 - val_loss: 19.0060 - val_accuracy: 0.0200\n",
            "Epoch 5/10\n",
            "331/331 [==============================] - 85s 257ms/step - loss: 0.0776 - accuracy: 0.9772 - val_loss: 20.2247 - val_accuracy: 0.0200\n",
            "Epoch 6/10\n",
            "331/331 [==============================] - 86s 259ms/step - loss: 0.0661 - accuracy: 0.9800 - val_loss: 22.2018 - val_accuracy: 0.0200\n",
            "Epoch 7/10\n",
            "331/331 [==============================] - 86s 258ms/step - loss: 0.0520 - accuracy: 0.9859 - val_loss: 20.2533 - val_accuracy: 0.0200\n",
            "Epoch 8/10\n",
            "331/331 [==============================] - 85s 258ms/step - loss: 0.0480 - accuracy: 0.9835 - val_loss: 22.6620 - val_accuracy: 0.0200\n",
            "Epoch 9/10\n",
            "331/331 [==============================] - 86s 258ms/step - loss: 0.0442 - accuracy: 0.9867 - val_loss: 23.8036 - val_accuracy: 0.0200\n",
            "Epoch 10/10\n",
            "331/331 [==============================] - 85s 257ms/step - loss: 0.0361 - accuracy: 0.9911 - val_loss: 23.7042 - val_accuracy: 0.0200\n",
            "CPU times: user 14min 1s, sys: 27.5 s, total: 14min 29s\n",
            "Wall time: 19min 6s\n"
          ]
        }
      ],
      "source": [
        "%%time\n",
        "input = Input(shape = img_shape)\n",
        "x = tf.keras.applications.EfficientNetB3(include_top=False, weights=\"imagenet\", pooling='max')(input)\n",
        "x = Dropout(rate=.2, seed=123)(x)\n",
        "output = Dense(class_count, activation='softmax')(x)\n",
        "model = Model(inputs = input, outputs = output)\n",
        "model.compile(\n",
        "    optimizer = Adamax(lr=.01),\n",
        "    loss = tf.losses.SparseCategoricalCrossentropy(),\n",
        "    metrics = ['accuracy'])\n",
        "\n",
        "history = model.fit(train_ds, validation_data = valid_ds, epochs = 10, verbose = 1)"
      ]
    },
    {
      "cell_type": "code",
      "source": [
        "random_guess_accuracy = 1/50\n",
        "train_accuracy = history.history['accuracy']\n",
        "plt.axhline(y=random_guess_accuracy, color='black', linestyle='dashed', label='Random guess accuracy')\n",
        "plt.plot(train_accuracy, label='Training accuracy')\n",
        "plt.title('Accuracy vs Epoch')\n",
        "plt.xlabel('Epoch')\n",
        "plt.ylabel('Accuracy')\n",
        "plt.legend()\n",
        "plt.show()"
      ],
      "metadata": {
        "colab": {
          "base_uri": "https://localhost:8080/",
          "height": 472
        },
        "id": "lObYyvaDI-lK",
        "outputId": "3f3fdb54-a4f3-46d8-ecc5-0cb56390efbc"
      },
      "execution_count": 53,
      "outputs": [
        {
          "output_type": "display_data",
          "data": {
            "text/plain": [
              "<Figure size 640x480 with 1 Axes>"
            ],
            "image/png": "[encoded data removed]"
          },
          "metadata": {}
        }
      ]
    },
    {
      "cell_type": "code",
      "source": [
        "train_accuracy = history.history['loss']\n",
        "plt.plot(train_accuracy, label='Training loss')\n",
        "plt.title('Loss vs Epoch')\n",
        "plt.xlabel('Epoch')\n",
        "plt.ylabel('Loss')\n",
        "plt.legend()\n",
        "plt.show()"
      ],
      "metadata": {
        "colab": {
          "base_uri": "https://localhost:8080/",
          "height": 472
        },
        "id": "EDGiyHagQ9QP",
        "outputId": "b57cc29b-2f56-4f34-d2d9-107d6f5b7835"
      },
      "execution_count": 54,
      "outputs": [
        {
          "output_type": "display_data",
          "data": {
            "text/plain": [
              "<Figure size 640x480 with 1 Axes>"
            ],
            "image/png": "[encoded data removed]"
          },
          "metadata": {}
        }
      ]
    },
    {
      "cell_type": "code",
      "source": [
        "test_path = '/content/classification-of-butterflies/test_butterflies/valid'\n",
        "test = {'img': [], 'index': []}\n",
        "for file in os.listdir(test_path):\n",
        "    img = cv2.imread(f'{test_path}/{file}')\n",
        "    test['img'].append(cv2.cvtColor(img, cv2.COLOR_BGR2RGB))\n",
        "    test['index'].append(int(file.replace('.jpg', '')))\n",
        "test = {'img': np.array(test['img']),'index': np.array(test['index'])}\n",
        "preds = model.predict(test['img'], verbose=1)\n",
        "\n",
        "ypred = []\n",
        "for i, p in enumerate(preds):\n",
        "    index = np.argmax(p)\n",
        "    klass = class_names[index]\n",
        "    ypred.append(klass)\n",
        "ypred = np.array(ypred)\n",
        "\n",
        "df = pd.DataFrame(ypred, columns=['label'])\n",
        "df['label'] = df['label'].str.replace(\"class_\",'')\n",
        "df['label'] = df['label'].astype(int)\n",
        "df = df.reset_index()\n",
        "df['index'] = test['index']"
      ],
      "metadata": {
        "colab": {
          "base_uri": "https://localhost:8080/"
        },
        "id": "wU-K_mRKoZCR",
        "outputId": "decfe51b-58d8-4241-b6e5-7ddaeab68052"
      },
      "execution_count": 55,
      "outputs": [
        {
          "output_type": "stream",
          "name": "stdout",
          "text": [
            "8/8 [==============================] - 6s 123ms/step\n"
          ]
        }
      ]
    },
    {
      "cell_type": "code",
      "source": [
        "df.to_csv('predictions.csv', index=False)\n",
        "files.download('predictions.csv')"
      ],
      "metadata": {
        "colab": {
          "base_uri": "https://localhost:8080/",
          "height": 17
        },
        "id": "nC8dF9JtRhNf",
        "outputId": "d060e923-7ff0-47b5-891d-da0a3efc3753"
      },
      "execution_count": 56,
      "outputs": [
        {
          "output_type": "display_data",
          "data": {
            "text/plain": [
              "<IPython.core.display.Javascript object>"
            ],
            "application/javascript": [
              "\n",
              "    async function download(id, filename, size) {\n",
              "      if (!google.colab.kernel.accessAllowed) {\n",
              "        return;\n",
              "      }\n",
              "      const div = document.createElement('div');\n",
              "      const label = document.createElement('label');\n",
              "      label.textContent = `Downloading \"${filename}\": `;\n",
              "      div.appendChild(label);\n",
              "      const progress = document.createElement('progress');\n",
              "      progress.max = size;\n",
              "      div.appendChild(progress);\n",
              "      document.body.appendChild(div);\n",
              "\n",
              "      const buffers = [];\n",
              "      let downloaded = 0;\n",
              "\n",
              "      const channel = await google.colab.kernel.comms.open(id);\n",
              "      // Send a message to notify the kernel that we're ready.\n",
              "      channel.send({})\n",
              "\n",
              "      for await (const message of channel.messages) {\n",
              "        // Send a message to notify the kernel that we're ready.\n",
              "        channel.send({})\n",
              "        if (message.buffers) {\n",
              "          for (const buffer of message.buffers) {\n",
              "            buffers.push(buffer);\n",
              "            downloaded += buffer.byteLength;\n",
              "            progress.value = downloaded;\n",
              "          }\n",
              "        }\n",
              "      }\n",
              "      const blob = new Blob(buffers, {type: 'application/binary'});\n",
              "      const a = document.createElement('a');\n",
              "      a.href = window.URL.createObjectURL(blob);\n",
              "      a.download = filename;\n",
              "      div.appendChild(a);\n",
              "      a.click();\n",
              "      div.remove();\n",
              "    }\n",
              "  "
            ]
          },
          "metadata": {}
        },
        {
          "output_type": "display_data",
          "data": {
            "text/plain": [
              "<IPython.core.display.Javascript object>"
            ],
            "application/javascript": [
              "download(\"download_18146e13-415f-4686-aca6-b93cfd8d880a\", \"predictions.csv\", 1601)"
            ]
          },
          "metadata": {}
        }
      ]
    },
    {
      "cell_type": "code",
      "source": [
        "Image(filename='/content/best_EfficientNet.png')"
      ],
      "metadata": {
        "colab": {
          "base_uri": "https://localhost:8080/",
          "height": 159
        },
        "id": "ozEjvGT8cIfq",
        "outputId": "3c9c6613-dc09-44ef-aa04-bca010f66c23"
      },
      "execution_count": 57,
      "outputs": [
        {
          "output_type": "execute_result",
          "data": {
            "image/png": "[encoded data removed]",
            "text/plain": [
              "<IPython.core.display.Image object>"
            ]
          },
          "metadata": {},
          "execution_count": 57
        }
      ]
    },
    {
      "cell_type": "markdown",
      "source": [
        "\n",
        "# при более долгом обучении бейзлайн-модели получен следующий результат:\n",
        "# ***public_score*** = **1**\n",
        "# ***private_csore*** = **0.98404**"
      ],
      "metadata": {
        "id": "pUxKyPEPZQwE"
      }
    },
    {
      "cell_type": "markdown",
      "source": [
        "# **Model based on Resnet50**"
      ],
      "metadata": {
        "id": "PzpS70nNYjBs"
      }
    },
    {
      "cell_type": "code",
      "source": [
        "base_model = ResNet50(weights='imagenet', include_top=False, input_shape=(224, 224, 3))\n",
        "num_classes = 50\n",
        "not_base_model = tf.keras.Sequential([\n",
        "    base_model,\n",
        "    tf.keras.layers.GlobalAveragePooling2D(),\n",
        "    tf.keras.layers.Dense(256, activation='relu'),\n",
        "    tf.keras.layers.Dropout(0.2),\n",
        "    tf.keras.layers.Dense(num_classes, activation='softmax')\n",
        "])\n",
        "not_base_model.compile(optimizer='adam',\n",
        "              loss = tf.losses.SparseCategoricalCrossentropy(),\n",
        "              metrics=['accuracy'])\n",
        "for layer in not_base_model.layers:\n",
        "  layer.trainable = False\n",
        "# Unfreeze the last 2 layers\n",
        "for layer in not_base_model.layers[-3:]:\n",
        "  layer.trainable = True\n",
        "\n",
        "history = not_base_model.fit(\n",
        "  train_ds,\n",
        "  epochs = 10,\n",
        "  validation_data=valid_ds\n",
        ")"
      ],
      "metadata": {
        "colab": {
          "base_uri": "https://localhost:8080/"
        },
        "id": "sC2fijcfS_iE",
        "outputId": "5a901c9e-ad59-479d-fcbe-b8b94f7169e2"
      },
      "execution_count": 58,
      "outputs": [
        {
          "output_type": "stream",
          "name": "stdout",
          "text": [
            "Epoch 1/10\n",
            "331/331 [==============================] - 94s 176ms/step - loss: 2.8826 - accuracy: 0.2416 - val_loss: 12.5139 - val_accuracy: 0.0000e+00\n",
            "Epoch 2/10\n",
            "331/331 [==============================] - 59s 179ms/step - loss: 1.4679 - accuracy: 0.5661 - val_loss: 12.9764 - val_accuracy: 0.0280\n",
            "Epoch 3/10\n",
            "331/331 [==============================] - 59s 177ms/step - loss: 0.9351 - accuracy: 0.7098 - val_loss: 11.1363 - val_accuracy: 0.0160\n",
            "Epoch 4/10\n",
            "331/331 [==============================] - 59s 179ms/step - loss: 0.6857 - accuracy: 0.7859 - val_loss: 11.1231 - val_accuracy: 0.0280\n",
            "Epoch 5/10\n",
            "331/331 [==============================] - 59s 178ms/step - loss: 0.4970 - accuracy: 0.8436 - val_loss: 13.1118 - val_accuracy: 0.0240\n",
            "Epoch 6/10\n",
            "331/331 [==============================] - 59s 177ms/step - loss: 0.4204 - accuracy: 0.8666 - val_loss: 16.4193 - val_accuracy: 0.0120\n",
            "Epoch 7/10\n",
            "331/331 [==============================] - 59s 178ms/step - loss: 0.3425 - accuracy: 0.8882 - val_loss: 15.2778 - val_accuracy: 0.0200\n",
            "Epoch 8/10\n",
            "331/331 [==============================] - 59s 178ms/step - loss: 0.2829 - accuracy: 0.9076 - val_loss: 16.0273 - val_accuracy: 0.0200\n",
            "Epoch 9/10\n",
            "331/331 [==============================] - 58s 176ms/step - loss: 0.2420 - accuracy: 0.9237 - val_loss: 16.6731 - val_accuracy: 0.0160\n",
            "Epoch 10/10\n",
            "331/331 [==============================] - 59s 177ms/step - loss: 0.2130 - accuracy: 0.9302 - val_loss: 13.3829 - val_accuracy: 0.0400\n"
          ]
        }
      ]
    },
    {
      "cell_type": "code",
      "source": [
        "random_guess_accuracy = 1/50\n",
        "train_accuracy = history.history['accuracy']\n",
        "plt.axhline(y=random_guess_accuracy, color='black', linestyle='dashed', label='Random guess accuracy')\n",
        "plt.plot(train_accuracy, label='Training accuracy')\n",
        "plt.title('Accuracy vs Epoch')\n",
        "plt.xlabel('Epoch')\n",
        "plt.ylabel('Accuracy')\n",
        "plt.legend()\n",
        "plt.show()"
      ],
      "metadata": {
        "colab": {
          "base_uri": "https://localhost:8080/",
          "height": 472
        },
        "id": "0Zw2dk4qV_gY",
        "outputId": "553055f8-da07-42f6-8d02-e382c987e0d5"
      },
      "execution_count": 59,
      "outputs": [
        {
          "output_type": "display_data",
          "data": {
            "text/plain": [
              "<Figure size 640x480 with 1 Axes>"
            ],
            "image/png": "[encoded data removed]"
          },
          "metadata": {}
        }
      ]
    },
    {
      "cell_type": "code",
      "source": [
        "train_accuracy = history.history['loss']\n",
        "plt.plot(train_accuracy, label='Training loss')\n",
        "plt.title('Loss vs Epoch')\n",
        "plt.xlabel('Epoch')\n",
        "plt.ylabel('Loss')\n",
        "plt.legend()\n",
        "plt.show()"
      ],
      "metadata": {
        "colab": {
          "base_uri": "https://localhost:8080/",
          "height": 472
        },
        "id": "MtrAoKNZWBZa",
        "outputId": "16aaaf35-f40e-4668-ede9-fc31eac76519"
      },
      "execution_count": 60,
      "outputs": [
        {
          "output_type": "display_data",
          "data": {
            "text/plain": [
              "<Figure size 640x480 with 1 Axes>"
            ],
            "image/png": "[encoded data removed]"
          },
          "metadata": {}
        }
      ]
    },
    {
      "cell_type": "code",
      "source": [
        "test_path = '/content/classification-of-butterflies/test_butterflies/valid'\n",
        "test2 = {'img': [],'index': []}\n",
        "\n",
        "for file in os.listdir(test_path):\n",
        "    img = cv2.imread(f'{test_path}/{file}')\n",
        "    test2['img'].append(cv2.cvtColor(img, cv2.COLOR_BGR2RGB))\n",
        "    test2['index'].append(int(file.replace('.jpg', '')))\n",
        "test2 = {'img': np.array(test2['img']),'index': np.array(test2['index'])}\n",
        "preds2 = not_base_model.predict(test2['img'], verbose=1)\n",
        "\n",
        "ypred2 = []\n",
        "for i, p in enumerate(preds2):\n",
        "    index = np.argmax(p)\n",
        "    klass = class_names[index]\n",
        "    ypred2.append(klass)\n",
        "ypred2 = np.array(ypred2)\n",
        "\n",
        "df2 = pd.DataFrame(ypred2, columns=['label'])\n",
        "df2['label'] = df2['label'].str.replace(\"class_\",'')\n",
        "df2['label'] = df2['label'].astype(int)\n",
        "df2 = df2.reset_index()\n",
        "df2['index'] = test['index']"
      ],
      "metadata": {
        "colab": {
          "base_uri": "https://localhost:8080/"
        },
        "id": "_G88h0vVWDtg",
        "outputId": "254e4d5b-4097-4928-dcd1-ccaf067d915f"
      },
      "execution_count": 61,
      "outputs": [
        {
          "output_type": "stream",
          "name": "stdout",
          "text": [
            "8/8 [==============================] - 3s 97ms/step\n"
          ]
        }
      ]
    },
    {
      "cell_type": "code",
      "source": [
        "df2.to_csv('predictions2.csv', index=False)\n",
        "files.download('predictions2.csv')"
      ],
      "metadata": {
        "colab": {
          "base_uri": "https://localhost:8080/",
          "height": 17
        },
        "id": "wnP3SOPSWe7o",
        "outputId": "8db2f375-3365-48de-aaf2-9601cc108a00"
      },
      "execution_count": 62,
      "outputs": [
        {
          "output_type": "display_data",
          "data": {
            "text/plain": [
              "<IPython.core.display.Javascript object>"
            ],
            "application/javascript": [
              "\n",
              "    async function download(id, filename, size) {\n",
              "      if (!google.colab.kernel.accessAllowed) {\n",
              "        return;\n",
              "      }\n",
              "      const div = document.createElement('div');\n",
              "      const label = document.createElement('label');\n",
              "      label.textContent = `Downloading \"${filename}\": `;\n",
              "      div.appendChild(label);\n",
              "      const progress = document.createElement('progress');\n",
              "      progress.max = size;\n",
              "      div.appendChild(progress);\n",
              "      document.body.appendChild(div);\n",
              "\n",
              "      const buffers = [];\n",
              "      let downloaded = 0;\n",
              "\n",
              "      const channel = await google.colab.kernel.comms.open(id);\n",
              "      // Send a message to notify the kernel that we're ready.\n",
              "      channel.send({})\n",
              "\n",
              "      for await (const message of channel.messages) {\n",
              "        // Send a message to notify the kernel that we're ready.\n",
              "        channel.send({})\n",
              "        if (message.buffers) {\n",
              "          for (const buffer of message.buffers) {\n",
              "            buffers.push(buffer);\n",
              "            downloaded += buffer.byteLength;\n",
              "            progress.value = downloaded;\n",
              "          }\n",
              "        }\n",
              "      }\n",
              "      const blob = new Blob(buffers, {type: 'application/binary'});\n",
              "      const a = document.createElement('a');\n",
              "      a.href = window.URL.createObjectURL(blob);\n",
              "      a.download = filename;\n",
              "      div.appendChild(a);\n",
              "      a.click();\n",
              "      div.remove();\n",
              "    }\n",
              "  "
            ]
          },
          "metadata": {}
        },
        {
          "output_type": "display_data",
          "data": {
            "text/plain": [
              "<IPython.core.display.Javascript object>"
            ],
            "application/javascript": [
              "download(\"download_3dc387bb-a01d-4d6c-8a08-225ba0b4447a\", \"predictions2.csv\", 1599)"
            ]
          },
          "metadata": {}
        }
      ]
    },
    {
      "cell_type": "code",
      "source": [
        "Image(filename='/content/resnet_model.png')"
      ],
      "metadata": {
        "colab": {
          "base_uri": "https://localhost:8080/",
          "height": 142
        },
        "id": "cRX0O8nucAP4",
        "outputId": "e11c7848-c610-4012-e6d4-607290da8961"
      },
      "execution_count": 63,
      "outputs": [
        {
          "output_type": "execute_result",
          "data": {
            "image/png": "[encoded data removed]",
            "text/plain": [
              "<IPython.core.display.Image object>"
            ]
          },
          "metadata": {},
          "execution_count": 63
        }
      ]
    },
    {
      "cell_type": "markdown",
      "source": [
        "\n",
        "# При обучении модели основанной на resnet50 получен следующий результат:\n",
        "# ***public_score*** = **0.8387**\n",
        "# ***private_csore*** = **0.78191**"
      ],
      "metadata": {
        "id": "vTMpMf80axlt"
      }
    }
  ],
  "metadata": {
    "accelerator": "GPU",
    "colab": {
      "provenance": []
    },
    "kernelspec": {
      "display_name": "Python 3",
      "name": "python3"
    },
    "language_info": {
      "name": "python"
    }
  },
  "nbformat": 4,
  "nbformat_minor": 0
}
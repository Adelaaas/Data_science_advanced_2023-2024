{
  "nbformat": 4,
  "nbformat_minor": 0,
  "metadata": {
    "colab": {
      "provenance": [],
      "gpuType": "T4"
    },
    "kernelspec": {
      "name": "python3",
      "display_name": "Python 3"
    },
    "language_info": {
      "name": "python"
    },
    "accelerator": "GPU"
  },
  "cells": [
    {
      "cell_type": "code",
      "source": [
        "from google.colab import drive\n",
        "drive.mount('/content/drive')"
      ],
      "metadata": {
        "colab": {
          "base_uri": "https://localhost:8080/"
        },
        "id": "40zL3J7LtSUd",
        "outputId": "cec552de-1561-4e5f-c027-5d3e91496bbb"
      },
      "execution_count": null,
      "outputs": [
        {
          "output_type": "stream",
          "name": "stdout",
          "text": [
            "Mounted at /content/drive\n"
          ]
        }
      ]
    },
    {
      "cell_type": "code",
      "execution_count": null,
      "metadata": {
        "id": "7XdOzFcwsj3N"
      },
      "outputs": [],
      "source": [
        "import zipfile\n",
        "\n",
        "with zipfile.ZipFile('/content/drive/MyDrive/ЛЕТАЮЩИЕ НАСЕКОМЫЕ/train_butterflies.zip', 'r') as zip_ref:\n",
        "    zip_ref.extractall('/content/drive/MyDrive/ЛЕТАЮЩИЕ НАСЕКОМЫЕ')"
      ]
    },
    {
      "cell_type": "code",
      "source": [
        "import zipfile\n",
        "\n",
        "with zipfile.ZipFile('/content/drive/MyDrive/ЛЕТАЮЩИЕ НАСЕКОМЫЕ/test_butterflies.zip', 'r') as zip_ref:\n",
        "    zip_ref.extractall('/content/drive/MyDrive/ЛЕТАЮЩИЕ НАСЕКОМЫЕ')"
      ],
      "metadata": {
        "id": "gQYcGkGmtorz"
      },
      "execution_count": null,
      "outputs": []
    },
    {
      "cell_type": "code",
      "source": [
        "import shutil\n",
        "import os\n",
        "import matplotlib.pyplot as plt\n",
        "import torch\n",
        "from PIL import Image\n",
        "import re\n",
        "import numpy as np\n",
        "import albumentations\n",
        "import albumentations.pytorch\n",
        "import shutil"
      ],
      "metadata": {
        "id": "NgN-7TdiuimM"
      },
      "execution_count": null,
      "outputs": []
    },
    {
      "cell_type": "code",
      "source": [
        "im = Image.open('/content/drive/MyDrive/ЛЕТАЮЩИЕ НАСЕКОМЫЕ/train_butterflies/class_0/101.jpg')\n",
        "width, height = im.size"
      ],
      "metadata": {
        "id": "Nh7Sn5dCuixz"
      },
      "execution_count": null,
      "outputs": []
    },
    {
      "cell_type": "code",
      "source": [
        "type(width), height"
      ],
      "metadata": {
        "colab": {
          "base_uri": "https://localhost:8080/"
        },
        "id": "5DXmOxZJvNCq",
        "outputId": "8e4a6f85-8c14-4947-ce3b-ea1d549409be"
      },
      "execution_count": null,
      "outputs": [
        {
          "output_type": "execute_result",
          "data": {
            "text/plain": [
              "(int, 224)"
            ]
          },
          "metadata": {},
          "execution_count": 17
        }
      ]
    },
    {
      "cell_type": "code",
      "source": [
        "all_typs={\"paths\" : list() , \"index\" : list(), 'bounds' : list() }\n",
        "pp='/content/drive/MyDrive/ЛЕТАЮЩИЕ НАСЕКОМЫЕ/valid/'\n",
        "a=os.listdir(pp)\n",
        "print(a)\n",
        "for j in a:\n",
        "    flp = pp + \"/\" + j\n",
        "    print(flp)\n",
        "    all_typs[\"paths\"].append(flp)\n",
        "    all_typs[\"index\"].append([1])\n",
        "    im = Image.open(flp)\n",
        "    width, height = im.size\n",
        "    all_typs[\"bounds\"].append([['0', '0', '224', '224']])\n",
        "print(len(all_typs[\"paths\"]))\n",
        "print(len(all_typs[\"index\"]))\n",
        "print(len(all_typs[\"bounds\"]))\n",
        "all_typs"
      ],
      "metadata": {
        "id": "1mXhN8NHvT46",
        "colab": {
          "base_uri": "https://localhost:8080/",
          "height": 385
        },
        "outputId": "7408f859-6e2e-4594-821c-ba71da4e79cd"
      },
      "execution_count": null,
      "outputs": [
        {
          "output_type": "stream",
          "name": "stdout",
          "text": [
            ".\n"
          ]
        },
        {
          "output_type": "error",
          "ename": "KeyboardInterrupt",
          "evalue": "",
          "traceback": [
            "\u001b[0;31m---------------------------------------------------------------------------\u001b[0m",
            "\u001b[0;31mKeyboardInterrupt\u001b[0m                         Traceback (most recent call last)",
            "\u001b[0;32m<ipython-input-5-b109860e4602>\u001b[0m in \u001b[0;36m<cell line: 2>\u001b[0;34m()\u001b[0m\n\u001b[1;32m     10\u001b[0m     \u001b[0mall_typs\u001b[0m\u001b[0;34m[\u001b[0m\u001b[0;34m\"paths\"\u001b[0m\u001b[0;34m]\u001b[0m\u001b[0;34m.\u001b[0m\u001b[0mappend\u001b[0m\u001b[0;34m(\u001b[0m\u001b[0mflp\u001b[0m\u001b[0;34m)\u001b[0m\u001b[0;34m\u001b[0m\u001b[0;34m\u001b[0m\u001b[0m\n\u001b[1;32m     11\u001b[0m     \u001b[0mall_typs\u001b[0m\u001b[0;34m[\u001b[0m\u001b[0;34m\"index\"\u001b[0m\u001b[0;34m]\u001b[0m\u001b[0;34m.\u001b[0m\u001b[0mappend\u001b[0m\u001b[0;34m(\u001b[0m\u001b[0;34m[\u001b[0m\u001b[0mi\u001b[0m\u001b[0;34m]\u001b[0m\u001b[0;34m)\u001b[0m\u001b[0;34m\u001b[0m\u001b[0;34m\u001b[0m\u001b[0m\n\u001b[0;32m---> 12\u001b[0;31m     \u001b[0mim\u001b[0m \u001b[0;34m=\u001b[0m \u001b[0mImage\u001b[0m\u001b[0;34m.\u001b[0m\u001b[0mopen\u001b[0m\u001b[0;34m(\u001b[0m\u001b[0mflp\u001b[0m\u001b[0;34m)\u001b[0m\u001b[0;34m\u001b[0m\u001b[0;34m\u001b[0m\u001b[0m\n\u001b[0m\u001b[1;32m     13\u001b[0m     \u001b[0mwidth\u001b[0m\u001b[0;34m,\u001b[0m \u001b[0mheight\u001b[0m \u001b[0;34m=\u001b[0m \u001b[0mim\u001b[0m\u001b[0;34m.\u001b[0m\u001b[0msize\u001b[0m\u001b[0;34m\u001b[0m\u001b[0;34m\u001b[0m\u001b[0m\n\u001b[1;32m     14\u001b[0m     \u001b[0mall_typs\u001b[0m\u001b[0;34m[\u001b[0m\u001b[0;34m\"bounds\"\u001b[0m\u001b[0;34m]\u001b[0m\u001b[0;34m.\u001b[0m\u001b[0mappend\u001b[0m\u001b[0;34m(\u001b[0m\u001b[0;34m[\u001b[0m\u001b[0;34m[\u001b[0m\u001b[0;34m'0'\u001b[0m\u001b[0;34m,\u001b[0m\u001b[0;34m'0'\u001b[0m\u001b[0;34m,\u001b[0m\u001b[0;34m'224'\u001b[0m\u001b[0;34m,\u001b[0m\u001b[0;34m'224'\u001b[0m\u001b[0;34m]\u001b[0m\u001b[0;34m]\u001b[0m\u001b[0;34m)\u001b[0m\u001b[0;34m\u001b[0m\u001b[0;34m\u001b[0m\u001b[0m\n",
            "\u001b[0;32m/usr/local/lib/python3.10/dist-packages/PIL/Image.py\u001b[0m in \u001b[0;36mopen\u001b[0;34m(fp, mode, formats)\u001b[0m\n\u001b[1;32m   3234\u001b[0m         \u001b[0mexclusive_fp\u001b[0m \u001b[0;34m=\u001b[0m \u001b[0;32mTrue\u001b[0m\u001b[0;34m\u001b[0m\u001b[0;34m\u001b[0m\u001b[0m\n\u001b[1;32m   3235\u001b[0m \u001b[0;34m\u001b[0m\u001b[0m\n\u001b[0;32m-> 3236\u001b[0;31m     \u001b[0mprefix\u001b[0m \u001b[0;34m=\u001b[0m \u001b[0mfp\u001b[0m\u001b[0;34m.\u001b[0m\u001b[0mread\u001b[0m\u001b[0;34m(\u001b[0m\u001b[0;36m16\u001b[0m\u001b[0;34m)\u001b[0m\u001b[0;34m\u001b[0m\u001b[0;34m\u001b[0m\u001b[0m\n\u001b[0m\u001b[1;32m   3237\u001b[0m \u001b[0;34m\u001b[0m\u001b[0m\n\u001b[1;32m   3238\u001b[0m     \u001b[0mpreinit\u001b[0m\u001b[0;34m(\u001b[0m\u001b[0;34m)\u001b[0m\u001b[0;34m\u001b[0m\u001b[0;34m\u001b[0m\u001b[0m\n",
            "\u001b[0;31mKeyboardInterrupt\u001b[0m: "
          ]
        }
      ]
    },
    {
      "cell_type": "code",
      "source": [
        "for i in range(0,50):\n",
        "  print(len(os.listdir('/content/drive/MyDrive/ЛЕТАЮЩИЕ НАСЕКОМЫЕ/train_butterflies/class_'+str(i))))"
      ],
      "metadata": {
        "id": "yxV_fK4VvXfi"
      },
      "execution_count": null,
      "outputs": []
    },
    {
      "cell_type": "code",
      "source": [
        "#\"/content/drive/MyDrive/ЛЕТАЮЩИЕ НАСЕКОМЫЕ/train_butterflies/class_0/101.jpg\""
      ],
      "metadata": {
        "id": "70xhwf_0xAmb"
      },
      "execution_count": null,
      "outputs": []
    },
    {
      "cell_type": "code",
      "source": [
        "all_typs={\"paths\" : list() , \"index\" : list(), 'bounds' : list() }\n",
        "for i in range(50):\n",
        "  pp='/content/drive/MyDrive/ЛЕТАЮЩИЕ НАСЕКОМЫЕ/train_butterflies/class_'+str(i)\n",
        "  a=os.listdir(pp)\n",
        "  for j in a:\n",
        "    #print(j)\n",
        "    flp=pp+\"/\"+j\n",
        "    #print(flp)\n",
        "    all_typs[\"paths\"].append(flp)\n",
        "    all_typs[\"index\"].append([i])\n",
        "    im = Image.open(flp)\n",
        "    width, height = im.size\n",
        "    all_typs[\"bounds\"].append([['0','0','224','224']])\n",
        "  if i%10==0:\n",
        "    print(\".\")\n",
        "    #print(width, height)\n",
        " # print(a)"
      ],
      "metadata": {
        "id": "mmGT32SBwDaB",
        "colab": {
          "base_uri": "https://localhost:8080/"
        },
        "outputId": "ac676152-486d-4c7c-8c4e-9deaf326cb71"
      },
      "execution_count": null,
      "outputs": [
        {
          "output_type": "stream",
          "name": "stdout",
          "text": [
            ".\n",
            ".\n",
            ".\n",
            ".\n",
            ".\n"
          ]
        }
      ]
    },
    {
      "cell_type": "code",
      "source": [
        "all_typs[\"paths\"][0],all_typs[\"index\"][0],all_typs['bounds'][0]"
      ],
      "metadata": {
        "colab": {
          "base_uri": "https://localhost:8080/"
        },
        "id": "0rOZUkmmylzL",
        "outputId": "f3b3aa45-0143-43e2-ed54-eca139503c10"
      },
      "execution_count": null,
      "outputs": [
        {
          "output_type": "execute_result",
          "data": {
            "text/plain": [
              "('/content/drive/MyDrive/ЛЕТАЮЩИЕ НАСЕКОМЫЕ/train_butterflies/class_0/3597.jpg',\n",
              " [0],\n",
              " [['0', '0', '224', '224']])"
            ]
          },
          "metadata": {},
          "execution_count": 7
        }
      ]
    },
    {
      "cell_type": "code",
      "source": [
        "class myOwnDataset(torch.utils.data.Dataset):\n",
        "    def __init__(self, items_dict, transforms=None):\n",
        "        self.items = items_dict\n",
        "        self.transforms = transforms\n",
        "\n",
        "    def __getitem__(self, index):\n",
        "        path = self.items[\"paths\"][index]\n",
        "        label = self.items[\"index\"][index]\n",
        "\n",
        "\n",
        "        img = Image.open(path)\n",
        "        width, height = img.size\n",
        "\n",
        "\n",
        "\n",
        "        boxes = self.items[\"bounds\"][index]\n",
        "\n",
        "        new_boxes = list()\n",
        "        for box in boxes:\n",
        "          new_boxes.append(list(map(float, box)))\n",
        "        boxes = torch.as_tensor(new_boxes, dtype=torch.float32)\n",
        "\n",
        "        labels = torch.as_tensor(label, dtype=torch.int64)\n",
        "\n",
        "        img_id = int(re.sub(r'[^0-9]', r'', path))\n",
        "        img_id = torch.tensor([img_id])\n",
        "\n",
        "        my_annotation = {}\n",
        "        my_annotation[\"boxes\"] = boxes\n",
        "        my_annotation[\"labels\"] = labels\n",
        "        my_annotation[\"image_id\"] = img_id\n",
        "\n",
        "        if self.transforms:\n",
        "            augmented = self.transforms(image=np.asarray(img))\n",
        "            img = augmented['image']\n",
        "        return img, my_annotation, path\n",
        "\n",
        "    def __len__(self):\n",
        "        return len(self.items[\"paths\"])"
      ],
      "metadata": {
        "id": "r15DTQ53zPE6"
      },
      "execution_count": null,
      "outputs": []
    },
    {
      "cell_type": "code",
      "source": [
        "all_typs"
      ],
      "metadata": {
        "id": "1gB1ruQj1n6S"
      },
      "execution_count": null,
      "outputs": []
    },
    {
      "cell_type": "code",
      "source": [
        "print(len(all_typs[\"bounds\"]))"
      ],
      "metadata": {
        "colab": {
          "base_uri": "https://localhost:8080/"
        },
        "id": "KQ7qxbG6zR36",
        "outputId": "88b54080-1e1d-4c26-fe4b-8232037de212"
      },
      "execution_count": null,
      "outputs": [
        {
          "output_type": "stream",
          "name": "stdout",
          "text": [
            "4955\n"
          ]
        }
      ]
    },
    {
      "cell_type": "code",
      "source": [
        "print(len(all_typs[\"paths\"]))"
      ],
      "metadata": {
        "colab": {
          "base_uri": "https://localhost:8080/"
        },
        "id": "OBbrNVZT1cnU",
        "outputId": "6b039783-760d-483a-de4e-f7f6ddd9f8ff"
      },
      "execution_count": null,
      "outputs": [
        {
          "output_type": "stream",
          "name": "stdout",
          "text": [
            "4955\n"
          ]
        }
      ]
    },
    {
      "cell_type": "code",
      "source": [
        "print(len(all_typs[\"index\"]))"
      ],
      "metadata": {
        "colab": {
          "base_uri": "https://localhost:8080/"
        },
        "id": "xUen2slM1gXL",
        "outputId": "e98f29dd-c17b-447e-c074-d247f2f7eec2"
      },
      "execution_count": null,
      "outputs": [
        {
          "output_type": "stream",
          "name": "stdout",
          "text": [
            "4955\n"
          ]
        }
      ]
    },
    {
      "cell_type": "code",
      "source": [
        "base_transform = albumentations.Compose([\n",
        "    albumentations.Normalize(mean=(0.485, 0.456, 0.406), std=(0.229, 0.224, 0.225)),\n",
        "    albumentations.pytorch.transforms.ToTensorV2()\n",
        "])\n",
        "\n",
        "my_dataset = myOwnDataset(items_dict=all_typs,\n",
        "                          transforms=base_transform)\n",
        "\n",
        "def collate_fn(batch):\n",
        "    return tuple(zip(*batch))\n",
        "\n",
        "train_batch_size = 1\n",
        "\n",
        "data_loader = torch.utils.data.DataLoader(my_dataset,\n",
        "                                          batch_size=train_batch_size,\n",
        "                                          shuffle=True,\n",
        "                                          num_workers=0,\n",
        "                                          collate_fn=collate_fn)"
      ],
      "metadata": {
        "id": "beroK8_YzZ4f"
      },
      "execution_count": null,
      "outputs": []
    },
    {
      "cell_type": "code",
      "source": [
        "my_dataset[0]"
      ],
      "metadata": {
        "colab": {
          "base_uri": "https://localhost:8080/"
        },
        "id": "GJcseEV3y098",
        "outputId": "f4aca31d-1a59-45b4-a3fb-87d195944595"
      },
      "execution_count": null,
      "outputs": [
        {
          "output_type": "execute_result",
          "data": {
            "text/plain": [
              "(tensor([[[-0.6794, -0.6794, -0.7137,  ..., -1.2788, -1.2788, -1.2788],\n",
              "          [-0.6794, -0.6794, -0.7137,  ..., -1.2617, -1.2445, -1.2445],\n",
              "          [-0.6794, -0.6794, -0.7137,  ..., -1.2617, -1.2445, -1.2445],\n",
              "          ...,\n",
              "          [-1.3815, -1.4158, -1.4158,  ..., -1.2617, -1.2617, -1.3130],\n",
              "          [-1.3815, -1.4158, -1.4500,  ..., -1.2274, -1.2103, -1.2788],\n",
              "          [-1.4158, -1.4500, -1.5014,  ..., -1.2274, -1.2274, -1.2445]],\n",
              " \n",
              "         [[-0.9503, -0.9503, -0.9503,  ..., -0.8978, -0.8978, -0.8978],\n",
              "          [-0.9503, -0.9503, -0.9503,  ..., -0.8803, -0.8627, -0.8627],\n",
              "          [-0.9503, -0.9503, -0.9503,  ..., -0.8277, -0.8102, -0.8102],\n",
              "          ...,\n",
              "          [-1.4055, -1.4405, -1.5105,  ..., -1.3704, -1.4055, -1.4230],\n",
              "          [-1.4755, -1.5105, -1.5455,  ..., -1.3529, -1.3880, -1.4055],\n",
              "          [-1.5105, -1.5455, -1.5980,  ..., -1.4055, -1.4055, -1.4230]],\n",
              " \n",
              "         [[-1.4036, -1.4036, -1.3339,  ..., -1.7522, -1.7522, -1.7522],\n",
              "          [-1.4036, -1.3687, -1.3339,  ..., -1.7347, -1.7173, -1.7347],\n",
              "          [-1.3687, -1.3687, -1.3339,  ..., -1.7173, -1.6999, -1.7347],\n",
              "          ...,\n",
              "          [-1.6302, -1.6650, -1.6650,  ..., -1.3861, -1.4036, -1.4384],\n",
              "          [-1.6302, -1.6650, -1.6650,  ..., -1.4036, -1.4210, -1.4559],\n",
              "          [-1.6650, -1.6999, -1.7173,  ..., -1.4384, -1.4384, -1.4559]]]),\n",
              " {'boxes': tensor([[  0.,   0., 224., 224.]]),\n",
              "  'labels': tensor([0]),\n",
              "  'image_id': tensor([3597])},\n",
              " '/content/drive/MyDrive/ЛЕТАЮЩИЕ НАСЕКОМЫЕ/train_butterflies/class_0/3597.jpg')"
            ]
          },
          "metadata": {},
          "execution_count": 73
        }
      ]
    },
    {
      "cell_type": "code",
      "source": [
        "my_dataset[0]"
      ],
      "metadata": {
        "colab": {
          "base_uri": "https://localhost:8080/"
        },
        "id": "r4P2W7mwrYU5",
        "outputId": "c5fcb4da-ff26-4a2c-9962-cf814c79ad72"
      },
      "execution_count": null,
      "outputs": [
        {
          "output_type": "execute_result",
          "data": {
            "text/plain": [
              "(tensor([[[ 1.1700,  1.2214,  1.2043,  ...,  0.8276,  0.7933,  0.7762],\n",
              "          [ 1.1872,  1.2214,  1.2043,  ...,  0.8276,  0.8104,  0.8104],\n",
              "          [ 1.2043,  1.2043,  1.2043,  ...,  0.8447,  0.8447,  0.8618],\n",
              "          ...,\n",
              "          [ 0.8276,  0.7933,  0.8104,  ..., -2.1179, -2.1008, -2.0494],\n",
              "          [ 0.7933,  0.7933,  0.8104,  ..., -2.1179, -2.0837, -2.0323],\n",
              "          [ 0.7933,  0.7933,  0.8104,  ..., -2.1179, -2.0665, -1.9980]],\n",
              " \n",
              "         [[ 1.1155,  1.1681,  1.1506,  ...,  0.9580,  0.9755,  0.9755],\n",
              "          [ 1.1331,  1.1681,  1.1506,  ...,  0.9580,  0.9930,  1.0105],\n",
              "          [ 1.1506,  1.1506,  1.1506,  ...,  0.9580,  0.9930,  1.0105],\n",
              "          ...,\n",
              "          [ 0.9230,  0.8880,  0.9055,  ..., -2.0182, -1.9832, -1.9307],\n",
              "          [ 0.8880,  0.8880,  0.8880,  ..., -2.0182, -1.9657, -1.9132],\n",
              "          [ 0.8880,  0.8880,  0.8880,  ..., -2.0007, -1.9482, -1.8782]],\n",
              " \n",
              "         [[ 0.6356,  0.6879,  0.6705,  ...,  0.8274,  0.7751,  0.6879],\n",
              "          [ 0.6531,  0.6879,  0.6705,  ...,  0.8622,  0.7925,  0.7228],\n",
              "          [ 0.6705,  0.6705,  0.6705,  ...,  0.9145,  0.7925,  0.7402],\n",
              "          ...,\n",
              "          [ 0.6008,  0.5659,  0.5834,  ..., -1.8044, -1.7696, -1.7173],\n",
              "          [ 0.5659,  0.5659,  0.6008,  ..., -1.8044, -1.7522, -1.6999],\n",
              "          [ 0.5659,  0.5659,  0.6008,  ..., -1.7870, -1.7347, -1.6650]]]),\n",
              " {'boxes': tensor([[  0.,   0., 224., 224.]]),\n",
              "  'labels': tensor([1]),\n",
              "  'image_id': tensor([121])},\n",
              " '/content/drive/MyDrive/ЛЕТАЮЩИЕ НАСЕКОМЫЕ/valid//121.jpg')"
            ]
          },
          "metadata": {},
          "execution_count": 62
        }
      ]
    },
    {
      "cell_type": "code",
      "source": [
        "for batch in data_loader:\n",
        "  print(len(batch))\n",
        "  print(batch)\n",
        "  break"
      ],
      "metadata": {
        "id": "4a9mp1TxxQdE"
      },
      "execution_count": null,
      "outputs": []
    },
    {
      "cell_type": "code",
      "source": [
        "import platform\n",
        "import torch\n",
        "if torch.cuda.is_available():\n",
        "    print(\"Using GPU: {}\\n\".format(torch.cuda.get_device_name()))\n",
        "    device = torch.device('cuda')\n",
        "else:\n",
        "    print(\"\\nGPU not found. Using CPU: {}\\n\".format(platform.processor()))\n",
        "    device = torch.device('cpu')"
      ],
      "metadata": {
        "id": "J579pbcI5Vsn",
        "outputId": "a5aa0587-24cd-4cfa-b05a-ef7dc08f9f5f",
        "colab": {
          "base_uri": "https://localhost:8080/"
        }
      },
      "execution_count": null,
      "outputs": [
        {
          "output_type": "stream",
          "name": "stdout",
          "text": [
            "Using GPU: Tesla T4\n",
            "\n"
          ]
        }
      ]
    },
    {
      "cell_type": "code",
      "source": [
        "import torchvision\n",
        "from torchvision.models.detection import FasterRCNN\n",
        "from torchvision.models.detection.rpn import AnchorGenerator\n",
        "\n",
        "# backbone = torchvision.models.mobilenet_v2(pretrained=True).features\n",
        "# backbone.out_channels = 1280\n",
        "\n",
        "backbone = torchvision.models.mobilenet_v3_large(pretrained=True).features\n",
        "backbone.out_channels = 960\n",
        "\n",
        "#backbone = torchvision.models.mobilenet_v3_small(pretrained=True).features\n",
        "#backbone.out_channels = 576\n",
        "\n",
        "# backbone = resnet_fpn_backbone('resnet34', pretrained=True)\n",
        "\n",
        "\n",
        "anchor_generator = AnchorGenerator(sizes=((32, 64, 128,224),),\n",
        "                                   aspect_ratios=((0.5, 1.0),))\n",
        "\n",
        "roi_pooler = torchvision.ops.MultiScaleRoIAlign(featmap_names=['0'],\n",
        "                                                output_size=7,\n",
        "                                                sampling_ratio=2)\n",
        "model = FasterRCNN(backbone,\n",
        "                   num_classes=51,\n",
        "                   rpn_anchor_generator=anchor_generator,\n",
        "                   box_roi_pool=roi_pooler)\n",
        "#model.load_state_dict(torch.load('/content/drive/MyDrive/butmodel.pth'))\n",
        "#model.eval()\n",
        "device = torch.device(\"cuda:0\" if torch.cuda.is_available() else \"cpu\")\n",
        "print(\"Device:\", device)\n",
        "model = model.to(device)"
      ],
      "metadata": {
        "colab": {
          "base_uri": "https://localhost:8080/"
        },
        "id": "t7MCjJCxz9KS",
        "outputId": "d8ec08fd-d89c-437b-eaf8-3fe55620cb14"
      },
      "execution_count": null,
      "outputs": [
        {
          "output_type": "stream",
          "name": "stdout",
          "text": [
            "Device: cuda:0\n"
          ]
        }
      ]
    },
    {
      "cell_type": "code",
      "source": [
        "my_dataset[0][0]"
      ],
      "metadata": {
        "id": "IEh79xB01RCi"
      },
      "execution_count": null,
      "outputs": []
    },
    {
      "cell_type": "code",
      "source": [
        "plt.imshow(my_dataset[0].permute(1,2, 0))[0]"
      ],
      "metadata": {
        "colab": {
          "base_uri": "https://localhost:8080/",
          "height": 469
        },
        "id": "uuJfogG50zUz",
        "outputId": "055b131a-9ed4-46b5-cbc8-27a5fa897a77"
      },
      "execution_count": null,
      "outputs": [
        {
          "output_type": "stream",
          "name": "stderr",
          "text": [
            "WARNING:matplotlib.image:Clipping input data to the valid range for imshow with RGB data ([0..1] for floats or [0..255] for integers).\n"
          ]
        },
        {
          "output_type": "execute_result",
          "data": {
            "text/plain": [
              "<matplotlib.image.AxesImage at 0x78eaa0a8d090>"
            ]
          },
          "metadata": {},
          "execution_count": 13
        },
        {
          "output_type": "display_data",
          "data": {
            "text/plain": [
              "<Figure size 640x480 with 1 Axes>"
            ],
            "image/png": "[encoded data removed]"
          },
          "metadata": {}
        }
      ]
    },
    {
      "cell_type": "code",
      "source": [
        "num_epochs = 2\n",
        "\n",
        "params = [p for p in model.parameters() if p.requires_grad]\n",
        "\n",
        "learning_rate = 0.1\n",
        "optimizer = torch.optim.Adam(params, amsgrad=True, lr=learning_rate)\n",
        "# optimizer = torch.optim.SGD(params, lr=learning_rate, momentum=0.9)\n",
        "\n",
        "scheduler = torch.optim.lr_scheduler.StepLR(optimizer, step_size=3, gamma=0.1)"
      ],
      "metadata": {
        "id": "THPgGn2Q0WTr"
      },
      "execution_count": null,
      "outputs": []
    },
    {
      "cell_type": "code",
      "source": [
        "obi=imgs"
      ],
      "metadata": {
        "id": "o13W2-jKz_h8"
      },
      "execution_count": null,
      "outputs": []
    },
    {
      "cell_type": "code",
      "source": [
        "obi"
      ],
      "metadata": {
        "colab": {
          "base_uri": "https://localhost:8080/"
        },
        "id": "cYW0B12C0EZI",
        "outputId": "89502b42-3f48-49ae-abd0-f33f7dcb43f5"
      },
      "execution_count": null,
      "outputs": [
        {
          "output_type": "execute_result",
          "data": {
            "text/plain": [
              "[tensor([[[ 1.5639,  1.5982,  1.6324,  ...,  0.8447,  0.8447,  0.8276],\n",
              "          [ 1.5639,  1.5982,  1.6324,  ...,  0.8789,  0.8618,  0.8618],\n",
              "          [ 1.5810,  1.5982,  1.6324,  ...,  0.8789,  0.8276,  0.8276],\n",
              "          ...,\n",
              "          [-1.3130, -1.2788, -1.2617,  ...,  0.7248,  0.7077,  0.6563],\n",
              "          [-1.3302, -1.2959, -1.2788,  ...,  0.7077,  0.6734,  0.6392],\n",
              "          [-1.3644, -1.3130, -1.2959,  ...,  0.6734,  0.6563,  0.6221]],\n",
              " \n",
              "         [[ 1.6057,  1.6408,  1.6758,  ...,  0.9930,  0.9755,  0.9930],\n",
              "          [ 1.6057,  1.6408,  1.6758,  ...,  0.9755,  0.9930,  1.0280],\n",
              "          [ 1.6232,  1.6408,  1.6758,  ...,  0.9755,  0.9580,  0.9580],\n",
              "          ...,\n",
              "          [-0.7577, -0.7227, -0.7052,  ...,  0.7304,  0.7129,  0.6604],\n",
              "          [-0.8102, -0.7752, -0.7402,  ...,  0.7129,  0.6779,  0.6429],\n",
              "          [-0.8452, -0.7927, -0.7577,  ...,  0.6779,  0.6604,  0.6254]],\n",
              " \n",
              "         [[ 1.6465,  1.6814,  1.7163,  ...,  1.0714,  1.1237,  1.1237],\n",
              "          [ 1.6814,  1.6814,  1.7511,  ...,  1.0714,  1.1237,  1.1585],\n",
              "          [ 1.7337,  1.7163,  1.7860,  ...,  1.0714,  1.0888,  1.1062],\n",
              "          ...,\n",
              "          [-1.1421, -1.1073, -1.0898,  ...,  0.8971,  0.8797,  0.8274],\n",
              "          [-1.1421, -1.1073, -1.0724,  ...,  0.8797,  0.8448,  0.8099],\n",
              "          [-1.1770, -1.1247, -1.0898,  ...,  0.8448,  0.8274,  0.7925]]],\n",
              "        device='cuda:0')]"
            ]
          },
          "metadata": {},
          "execution_count": 85
        }
      ]
    },
    {
      "cell_type": "code",
      "source": [
        "k=0\n",
        "for imgs, annotations, path in data_loader:\n",
        "        imgs = list(img.to(device) for img in imgs)\n",
        "        annotations = [{k: v.to(device) for k, v in t.items()} for t in annotations]\n",
        "        print(imgs)\n",
        "        print(annotations)\n",
        "        break\n",
        "       # loss_dict = model(imgs, annotations)\n",
        "       # losses = sum(loss for loss in loss_dict.values())\n",
        "\n",
        "       # optimizer.zero_grad()\n",
        "       # losses.backward()\n",
        "       # optimizer.step()\n",
        "\n",
        "        #sum_losses += losses\n",
        "        k+=1\n",
        "        if k%1000==0:\n",
        "          print(k)"
      ],
      "metadata": {
        "colab": {
          "base_uri": "https://localhost:8080/"
        },
        "id": "o04ePMepEFn6",
        "outputId": "6a03fe79-ca67-47f0-edbc-4e3afefc30e7"
      },
      "execution_count": null,
      "outputs": [
        {
          "output_type": "stream",
          "name": "stdout",
          "text": [
            "[tensor([[[-0.2684, -0.1828, -0.1999,  ..., -0.3712, -0.4397, -0.4568],\n",
            "         [-0.3198, -0.2513, -0.2342,  ..., -0.3369, -0.3883, -0.4054],\n",
            "         [-0.3712, -0.3198, -0.2684,  ..., -0.2856, -0.3369, -0.3541],\n",
            "         ...,\n",
            "         [-0.3198, -0.3883, -0.3541,  ..., -0.8335, -0.8164, -0.8507],\n",
            "         [-0.3369, -0.4054, -0.4397,  ..., -0.8849, -0.8678, -0.8164],\n",
            "         [-0.4397, -0.3369, -0.4054,  ..., -0.8849, -0.9534, -0.8335]],\n",
            "\n",
            "        [[ 0.5553,  0.6429,  0.5728,  ...,  0.4328,  0.4153,  0.3978],\n",
            "         [ 0.5028,  0.5728,  0.5378,  ...,  0.4678,  0.4678,  0.4503],\n",
            "         [ 0.4853,  0.5378,  0.5553,  ...,  0.5203,  0.5203,  0.5028],\n",
            "         ...,\n",
            "         [ 0.8704,  0.8004,  0.7829,  ..., -0.0924, -0.1450, -0.2325],\n",
            "         [ 0.9055,  0.8004,  0.7129,  ..., -0.1099, -0.2150, -0.2150],\n",
            "         [ 0.8004,  0.9055,  0.7479,  ..., -0.1275, -0.3025, -0.2325]],\n",
            "\n",
            "        [[-0.4624, -0.3578, -0.3753,  ..., -0.7587, -0.7936, -0.8110],\n",
            "         [-0.5147, -0.4450, -0.4101,  ..., -0.7238, -0.7413, -0.7587],\n",
            "         [-0.5844, -0.5321, -0.4450,  ..., -0.6367, -0.6890, -0.7064],\n",
            "         ...,\n",
            "         [-0.7064, -0.7761, -0.7936,  ..., -1.3861, -1.2293, -1.1770],\n",
            "         [-0.7936, -0.8807, -0.9156,  ..., -1.3339, -1.1770, -1.0550],\n",
            "         [-0.9330, -0.8284, -0.9156,  ..., -1.2990, -1.2467, -1.0376]]],\n",
            "       device='cuda:0')]\n",
            "[{'boxes': tensor([[  0.,   0., 224., 224.]], device='cuda:0'), 'labels': tensor([32], device='cuda:0'), 'image_id': tensor([323221], device='cuda:0')}]\n"
          ]
        }
      ]
    },
    {
      "cell_type": "code",
      "source": [
        "annotations"
      ],
      "metadata": {
        "colab": {
          "base_uri": "https://localhost:8080/"
        },
        "id": "ya6PDzGVsJOl",
        "outputId": "207181ad-50e1-4ac1-f0b1-530af3b1f1ba"
      },
      "execution_count": null,
      "outputs": [
        {
          "output_type": "execute_result",
          "data": {
            "text/plain": [
              "[{'boxes': tensor([[  0.,   0., 224., 224.]], device='cuda:0'),\n",
              "  'labels': tensor([28], device='cuda:0'),\n",
              "  'image_id': tensor([284319], device='cuda:0')}]"
            ]
          },
          "metadata": {},
          "execution_count": 91
        }
      ]
    },
    {
      "cell_type": "code",
      "source": [
        "for imgs, annotations, path in data_loader:\n",
        "  print(1)"
      ],
      "metadata": {
        "id": "Cx2Xqyd-7xG2"
      },
      "execution_count": null,
      "outputs": []
    },
    {
      "cell_type": "code",
      "source": [
        "for epoch in range(num_epochs):\n",
        "    if epoch != 0:\n",
        "        scheduler.step()\n",
        "    model.train()\n",
        "    sum_losses = 0\n",
        "    k=0\n",
        "    for imgs, annotations, path in data_loader:\n",
        "        imgs = list(img.to(device) for img in imgs)\n",
        "        #print(imgs)\n",
        "        annotations = [{k: v.to(device) for k, v in t.items()} for t in annotations]\n",
        "        loss_dict = model(imgs, annotations)\n",
        "       # print(imgs,annotations)\n",
        "        #print(loss_dict)\n",
        "\n",
        "        losses = sum(loss for loss in loss_dict.values())\n",
        "\n",
        "        optimizer.zero_grad()\n",
        "        losses.backward()\n",
        "        optimizer.step()\n",
        "\n",
        "        sum_losses += losses\n",
        "        k+=1\n",
        "        if k%1000==0:\n",
        "          print(\".\")\n",
        "    print(f'Epoch: {epoch + 1}/{num_epochs}, avg loss: {sum_losses / len(data_loader)}')"
      ],
      "metadata": {
        "id": "iMvVb5dU2Pjm",
        "colab": {
          "base_uri": "https://localhost:8080/"
        },
        "outputId": "39538e3b-442f-4005-a31f-cf8f381aee74"
      },
      "execution_count": null,
      "outputs": [
        {
          "output_type": "stream",
          "name": "stdout",
          "text": [
            ".\n",
            ".\n",
            ".\n",
            ".\n",
            "Epoch: 1/2, avg loss: 89.9053955078125\n",
            ".\n",
            ".\n",
            ".\n",
            ".\n",
            "Epoch: 2/2, avg loss: 0.8761793971061707\n"
          ]
        }
      ]
    },
    {
      "cell_type": "code",
      "source": [],
      "metadata": {
        "id": "x5ELxt2PA3Vf"
      },
      "execution_count": null,
      "outputs": []
    },
    {
      "cell_type": "code",
      "source": [
        "torch.save(model.state_dict(), \"/content/drive/MyDrive/butmodelnew.pth\")"
      ],
      "metadata": {
        "id": "0AQ_4xJg_KfE"
      },
      "execution_count": null,
      "outputs": []
    },
    {
      "cell_type": "code",
      "source": [
        "all_typs={\"paths\" : list() , \"index\" : list(), 'bounds' : list() }\n",
        "pp='/content/drive/MyDrive/ЛЕТАЮЩИЕ НАСЕКОМЫЕ/valid/'\n",
        "a=os.listdir(pp)\n",
        "print(a)\n",
        "for j in a:\n",
        "    flp = pp + \"/\" + j\n",
        "    print(flp)\n",
        "    all_typs[\"paths\"].append(flp)\n",
        "    all_typs[\"index\"].append([1])\n",
        "    im = Image.open(flp)\n",
        "    width, height = im.size\n",
        "    all_typs[\"bounds\"].append([['0', '0', '224', '224']])\n",
        "print(len(all_typs[\"paths\"]))\n",
        "print(len(all_typs[\"index\"]))\n",
        "print(len(all_typs[\"bounds\"]))\n",
        "all_typs"
      ],
      "metadata": {
        "id": "dLwuLCvqsmAH"
      },
      "execution_count": null,
      "outputs": []
    },
    {
      "cell_type": "code",
      "source": [
        "class myOwnDataset(torch.utils.data.Dataset):\n",
        "    def __init__(self, items_dict, transforms=None):\n",
        "        self.items = items_dict\n",
        "        self.transforms = transforms\n",
        "\n",
        "    def __getitem__(self, index):\n",
        "        path = self.items[\"paths\"][index]\n",
        "        label = self.items[\"index\"][index]\n",
        "\n",
        "\n",
        "        img = Image.open(path)\n",
        "        width, height = img.size\n",
        "\n",
        "\n",
        "\n",
        "        boxes = self.items[\"bounds\"][index]\n",
        "\n",
        "        new_boxes = list()\n",
        "        for box in boxes:\n",
        "          new_boxes.append(list(map(float, box)))\n",
        "        boxes = torch.as_tensor(new_boxes, dtype=torch.float32)\n",
        "\n",
        "        labels = torch.as_tensor(label, dtype=torch.int64)\n",
        "\n",
        "        img_id = int(re.sub(r'[^0-9]', r'', path))\n",
        "        img_id = torch.tensor([img_id])\n",
        "\n",
        "        my_annotation = {}\n",
        "        my_annotation[\"boxes\"] = boxes\n",
        "        my_annotation[\"labels\"] = labels\n",
        "        my_annotation[\"image_id\"] = img_id\n",
        "\n",
        "        if self.transforms:\n",
        "            augmented = self.transforms(image=np.asarray(img))\n",
        "            img = augmented['image']\n",
        "        return img, my_annotation, path\n",
        "\n",
        "    def __len__(self):\n",
        "        return len(self.items[\"paths\"])\n",
        "\n",
        "\n",
        "\n",
        "base_transform = albumentations.Compose([\n",
        "    albumentations.Normalize(mean=(0.485, 0.456, 0.406), std=(0.229, 0.224, 0.225)),\n",
        "    albumentations.pytorch.transforms.ToTensorV2()\n",
        "])\n",
        "\n",
        "my_dataset = myOwnDataset(items_dict=all_typs,\n",
        "                          transforms=base_transform)\n",
        "\n",
        "def collate_fn(batch):\n",
        "    return tuple(zip(*batch))\n",
        "\n",
        "train_batch_size = 1\n",
        "\n",
        "data_loader = torch.utils.data.DataLoader(my_dataset,\n",
        "                                          batch_size=train_batch_size,\n",
        "                                          shuffle=True,\n",
        "                                          num_workers=0,\n",
        "                                          collate_fn=collate_fn)\n",
        "\n",
        "\n",
        "import torchvision\n",
        "from torchvision.models.detection import FasterRCNN\n",
        "from torchvision.models.detection.rpn import AnchorGenerator\n",
        "\n",
        "# backbone = torchvision.models.mobilenet_v2(pretrained=True).features\n",
        "# backbone.out_channels = 1280\n",
        "\n",
        "backbone = torchvision.models.mobilenet_v3_large(pretrained=True).features\n",
        "backbone.out_channels = 960\n",
        "\n",
        "#backbone = torchvision.models.mobilenet_v3_small(pretrained=True).features\n",
        "#backbone.out_channels = 576\n",
        "\n",
        "# backbone = resnet_fpn_backbone('resnet34', pretrained=True)\n",
        "\n",
        "anchor_generator = AnchorGenerator(sizes=((32, 64, 128,224),),\n",
        "                                   aspect_ratios=((0.5, 1.0),))\n",
        "\n",
        "roi_pooler = torchvision.ops.MultiScaleRoIAlign(featmap_names=['0'],\n",
        "                                                output_size=7,\n",
        "                                                sampling_ratio=2)\n",
        "model = FasterRCNN(backbone,\n",
        "                   num_classes=51,\n",
        "                   rpn_anchor_generator=anchor_generator,\n",
        "                   box_roi_pool=roi_pooler)\n",
        "model.load_state_dict(torch.load('/content/drive/MyDrive/butmodelnew.pth'))\n",
        "model.eval()\n",
        "device = torch.device(\"cuda:0\" if torch.cuda.is_available() else \"cpu\")\n",
        "print(\"Device:\", device)\n",
        "model = model.to(device)\n",
        "num_epochs = 1\n",
        "print(1)\n",
        "params = [p for p in model.parameters() if p.requires_grad]\n",
        "\n",
        "learning_rate = 0.1\n",
        "optimizer = torch.optim.Adam(params, amsgrad=True, lr=learning_rate)\n",
        "# optimizer = torch.optim.SGD(params, lr=learning_rate, momentum=0.9)\n",
        "print(2)"
      ],
      "metadata": {
        "colab": {
          "base_uri": "https://localhost:8080/"
        },
        "id": "GxCWVEwitjBO",
        "outputId": "54143f6e-9730-4736-a0d1-585aa1ce4553"
      },
      "execution_count": null,
      "outputs": [
        {
          "output_type": "stream",
          "name": "stdout",
          "text": [
            "Device: cuda:0\n",
            "1\n",
            "2\n"
          ]
        }
      ]
    },
    {
      "cell_type": "code",
      "source": [
        "scheduler = torch.optim.lr_scheduler.StepLR(optimizer, step_size=3, gamma=0.1)"
      ],
      "metadata": {
        "id": "FtT9Wi7k0LfS"
      },
      "execution_count": null,
      "outputs": []
    },
    {
      "cell_type": "code",
      "source": [
        "result = model(imgs)"
      ],
      "metadata": {
        "id": "EWHbCm9K0Ueq"
      },
      "execution_count": null,
      "outputs": []
    },
    {
      "cell_type": "code",
      "source": [
        "result"
      ],
      "metadata": {
        "colab": {
          "base_uri": "https://localhost:8080/"
        },
        "id": "8Ec73CrK0VpB",
        "outputId": "2e2bc47d-c36e-450e-eea0-29601bbd8134"
      },
      "execution_count": null,
      "outputs": [
        {
          "output_type": "execute_result",
          "data": {
            "text/plain": [
              "[{'boxes': tensor([], device='cuda:0', size=(0, 4), grad_fn=<StackBackward0>),\n",
              "  'labels': tensor([], device='cuda:0', dtype=torch.int64),\n",
              "  'scores': tensor([], device='cuda:0', grad_fn=<IndexBackward0>)}]"
            ]
          },
          "metadata": {},
          "execution_count": 132
        }
      ]
    },
    {
      "cell_type": "code",
      "source": [
        "scheduler = torch.optim.lr_scheduler.StepLR(optimizer, step_size=3, gamma=0.1)\n",
        "for imgs, annotations, path in data_loader:\n",
        "      #print(imgs)\n",
        "     # break\n",
        "      with torch.no_grad():\n",
        "        # torch.cuda.empty_cache()\n",
        "        imgs = list(img.to(device) for img in imgs)\n",
        "        print(imgs)\n",
        "\n",
        "        print(imgs[0].size())\n",
        "        print(len(imgs))\n",
        "        #annotations = [{k: v.to(device) for k, v in t.items()} for t in annotations]\n",
        "        result = model(imgs)\n",
        "        print(result)\n",
        "        break"
      ],
      "metadata": {
        "colab": {
          "base_uri": "https://localhost:8080/"
        },
        "id": "uNJNP7MOttUQ",
        "outputId": "688bfe58-a291-464c-a3ed-4dd20d0b0f48"
      },
      "execution_count": null,
      "outputs": [
        {
          "output_type": "stream",
          "name": "stdout",
          "text": [
            "[tensor([[[-0.9020, -0.9534, -1.0048,  ...,  0.4166,  0.0569,  0.1426],\n",
            "         [-0.9192, -0.8849, -0.9192,  ...,  0.0741,  0.0398,  0.0227],\n",
            "         [-0.9020, -0.9192, -0.9363,  ...,  0.0227, -0.0116,  0.0398],\n",
            "         ...,\n",
            "         [ 0.7077,  0.3994,  0.3823,  ..., -0.6623, -0.7479, -0.7479],\n",
            "         [ 0.4166,  0.7762,  0.5022,  ..., -0.6623, -0.9534, -0.7308],\n",
            "         [ 0.3481,  0.4508,  0.3994,  ..., -0.6452, -0.6623, -0.8507]],\n",
            "\n",
            "        [[-0.4601, -0.5126, -0.5651,  ...,  0.6954,  0.3277,  0.4153],\n",
            "         [-0.4776, -0.4426, -0.4776,  ...,  0.3452,  0.3102,  0.2927],\n",
            "         [-0.4601, -0.4776, -0.4951,  ...,  0.2927,  0.2577,  0.3102],\n",
            "         ...,\n",
            "         [ 1.1856,  0.9055,  0.9405,  ...,  0.1702,  0.0826,  0.0826],\n",
            "         [ 0.8704,  1.2731,  1.0980,  ...,  0.1352, -0.1625,  0.0651],\n",
            "         [ 0.8004,  0.9405,  0.9930,  ...,  0.1527,  0.1352, -0.0574]],\n",
            "\n",
            "        [[-1.1944, -1.2467, -1.2990,  ...,  0.2696, -0.0964, -0.0092],\n",
            "         [-1.2119, -1.1770, -1.2119,  ..., -0.0790, -0.1138, -0.1312],\n",
            "         [-1.1944, -1.2119, -1.2293,  ..., -0.1312, -0.1661, -0.1138],\n",
            "         ...,\n",
            "         [ 1.4722,  1.1411,  1.1585,  ..., -0.3753, -0.4624, -0.4624],\n",
            "         [ 1.1237,  1.4722,  1.2631,  ..., -0.4275, -0.7238, -0.4973],\n",
            "         [ 1.0191,  1.1411,  1.1585,  ..., -0.4101, -0.4275, -0.6193]]],\n",
            "       device='cuda:0')]\n",
            "torch.Size([3, 224, 224])\n",
            "1\n",
            "[{'boxes': tensor([], device='cuda:0', size=(0, 4)), 'labels': tensor([], device='cuda:0', dtype=torch.int64), 'scores': tensor([], device='cuda:0')}]\n"
          ]
        }
      ]
    }
  ]
}